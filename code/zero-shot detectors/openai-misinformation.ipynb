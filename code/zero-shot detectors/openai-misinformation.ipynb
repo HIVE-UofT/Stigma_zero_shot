{
 "cells": [
  {
   "cell_type": "code",
   "execution_count": 1,
   "id": "dab2af8a",
   "metadata": {
    "_cell_guid": "b1076dfc-b9ad-4769-8c92-a6c4dae69d19",
    "_uuid": "8f2839f25d086af736a60e9eeb907d3b93b6e0e5",
    "execution": {
     "iopub.execute_input": "2025-01-29T22:03:53.479649Z",
     "iopub.status.busy": "2025-01-29T22:03:53.479272Z",
     "iopub.status.idle": "2025-01-29T22:04:04.605390Z",
     "shell.execute_reply": "2025-01-29T22:04:04.603938Z"
    },
    "papermill": {
     "duration": 11.134233,
     "end_time": "2025-01-29T22:04:04.608336",
     "exception": false,
     "start_time": "2025-01-29T22:03:53.474103",
     "status": "completed"
    },
    "tags": []
   },
   "outputs": [],
   "source": [
    "! pip install -q openai\n",
    "! pip install -q gdown"
   ]
  },
  {
   "cell_type": "code",
   "execution_count": 2,
   "id": "18c79bb7",
   "metadata": {
    "execution": {
     "iopub.execute_input": "2025-01-29T22:04:04.617788Z",
     "iopub.status.busy": "2025-01-29T22:04:04.617279Z",
     "iopub.status.idle": "2025-01-29T22:04:06.374821Z",
     "shell.execute_reply": "2025-01-29T22:04:06.373497Z"
    },
    "papermill": {
     "duration": 1.764519,
     "end_time": "2025-01-29T22:04:06.376800",
     "exception": false,
     "start_time": "2025-01-29T22:04:04.612281",
     "status": "completed"
    },
    "tags": []
   },
   "outputs": [],
   "source": [
    "import os\n",
    "from openai import OpenAI\n",
    "import json\n",
    "from tqdm import trange"
   ]
  },
  {
   "cell_type": "code",
   "execution_count": 3,
   "id": "f8603722",
   "metadata": {
    "execution": {
     "iopub.execute_input": "2025-01-29T22:04:06.385574Z",
     "iopub.status.busy": "2025-01-29T22:04:06.385076Z",
     "iopub.status.idle": "2025-01-29T22:04:33.737435Z",
     "shell.execute_reply": "2025-01-29T22:04:33.736205Z"
    },
    "papermill": {
     "duration": 27.359145,
     "end_time": "2025-01-29T22:04:33.739649",
     "exception": false,
     "start_time": "2025-01-29T22:04:06.380504",
     "status": "completed"
    },
    "tags": []
   },
   "outputs": [
    {
     "name": "stdout",
     "output_type": "stream",
     "text": [
      "/usr/local/lib/python3.10/dist-packages/gdown/__main__.py:140: FutureWarning: Option `--id` was deprecated in version 4.3.1 and will be removed in 5.0. You don't need to pass it anymore to use a file ID.\r\n",
      "  warnings.warn(\r\n",
      "Downloading...\r\n",
      "From: https://drive.google.com/uc?id=1rA0EtiqvFmyxulPIrtOGrEynGYki10Oc\r\n",
      "To: /kaggle/working/reddit_data.json\r\n",
      "100%|██████████████████████████████████████| 6.55M/6.55M [00:00<00:00, 36.9MB/s]\r\n",
      "/usr/local/lib/python3.10/dist-packages/gdown/__main__.py:140: FutureWarning: Option `--id` was deprecated in version 4.3.1 and will be removed in 5.0. You don't need to pass it anymore to use a file ID.\r\n",
      "  warnings.warn(\r\n",
      "Downloading...\r\n",
      "From (original): https://drive.google.com/uc?id=1-jF6BRzrXySV1XrU5-SPOUammX9QA-kw\r\n",
      "From (redirected): https://drive.google.com/uc?id=1-jF6BRzrXySV1XrU5-SPOUammX9QA-kw&confirm=t&uuid=e8672896-3edd-4289-8bdb-0ce657599ea7\r\n",
      "To: /kaggle/working/HealthUnlocked_crawled.json\r\n",
      "100%|████████████████████████████████████████| 195M/195M [00:03<00:00, 63.9MB/s]\r\n",
      "Downloading...\r\n",
      "From (original): https://drive.google.com/uc?id=1-50BWoOq3QTcsbI2zh8D89GEt3TVADmA\r\n",
      "From (redirected): https://drive.google.com/uc?id=1-50BWoOq3QTcsbI2zh8D89GEt3TVADmA&confirm=t&uuid=6c7e0892-61a2-416b-b05d-981cf2174403\r\n",
      "To: /kaggle/working/TU_crawled.json\r\n",
      "100%|████████████████████████████████████████| 121M/121M [00:02<00:00, 45.4MB/s]\r\n"
     ]
    }
   ],
   "source": [
    "! gdown --id 1rA0EtiqvFmyxulPIrtOGrEynGYki10Oc\n",
    "! gdown --id 1-jF6BRzrXySV1XrU5-SPOUammX9QA-kw\n",
    "! gdown 1-50BWoOq3QTcsbI2zh8D89GEt3TVADmA"
   ]
  },
  {
   "cell_type": "code",
   "execution_count": 4,
   "id": "ef0b0408",
   "metadata": {
    "execution": {
     "iopub.execute_input": "2025-01-29T22:04:33.752069Z",
     "iopub.status.busy": "2025-01-29T22:04:33.751621Z",
     "iopub.status.idle": "2025-01-29T22:04:33.800131Z",
     "shell.execute_reply": "2025-01-29T22:04:33.799017Z"
    },
    "papermill": {
     "duration": 0.056976,
     "end_time": "2025-01-29T22:04:33.802241",
     "exception": false,
     "start_time": "2025-01-29T22:04:33.745265",
     "status": "completed"
    },
    "tags": []
   },
   "outputs": [],
   "source": [
    "with open('/kaggle/working/reddit_data.json', 'r') as f:\n",
    "  reddit_data = json.load(f)\n",
    "  f.close()"
   ]
  },
  {
   "cell_type": "code",
   "execution_count": null,
   "id": "f376aec3",
   "metadata": {
    "execution": {
     "iopub.execute_input": "2025-01-29T22:04:33.814431Z",
     "iopub.status.busy": "2025-01-29T22:04:33.814072Z",
     "iopub.status.idle": "2025-01-29T22:04:34.980068Z",
     "shell.execute_reply": "2025-01-29T22:04:34.978726Z"
    },
    "papermill": {
     "duration": 1.174526,
     "end_time": "2025-01-29T22:04:34.982397",
     "exception": false,
     "start_time": "2025-01-29T22:04:33.807871",
     "status": "completed"
    },
    "tags": []
   },
   "outputs": [],
   "source": [
    "client = OpenAI(api_key='')\n",
    "models = client.models.list()"
   ]
  },
  {
   "cell_type": "code",
   "execution_count": 6,
   "id": "d611722a",
   "metadata": {
    "execution": {
     "iopub.execute_input": "2025-01-29T22:04:34.996329Z",
     "iopub.status.busy": "2025-01-29T22:04:34.995798Z",
     "iopub.status.idle": "2025-01-29T23:26:17.425576Z",
     "shell.execute_reply": "2025-01-29T23:26:17.424437Z"
    },
    "papermill": {
     "duration": 4902.438812,
     "end_time": "2025-01-29T23:26:17.427500",
     "exception": false,
     "start_time": "2025-01-29T22:04:34.988688",
     "status": "completed"
    },
    "tags": []
   },
   "outputs": [
    {
     "name": "stderr",
     "output_type": "stream",
     "text": [
      "100%|██████████| 5000/5000 [1:21:42<00:00,  1.02it/s]\n"
     ]
    }
   ],
   "source": [
    "model_answers = []\n",
    "\n",
    "for i in trange(5000):\n",
    "  completion = client.chat.completions.create(\n",
    "      model=\"gpt-4o-mini\",\n",
    "      messages=[\n",
    "          {\"role\": \"system\", \"content\": \"You are a highly skilled and reliable language model designed to analyze text for signs of misinformation. You specialize in assessing social media posts about diabetes for accuracy, providing nuanced and objective evaluations. When analyzing a text, focus on identifying false, misleading, or scientifically unsupported claims related to diabetes. Be thorough but avoid over-interpreting or assuming intent behind the message. Always remain unbiased and base your responses on the text provided, using current medical and scientific consensus. Your task is to label each text as one of the following: Misinformation: Contains inaccurate or misleading claims. No Misinformation: Contains no misleading claims, and information is factual or neutral. Uncertain: Insufficient information to determine if the content is misinformation.\"},\n",
    "          {\n",
    "              \"role\": \"user\",\n",
    "              \"content\": f\"Analyze the following text for signs of misinformation about diabetes. Label it as Misinformation, No Misinformation, or Uncertain and provide a short explanation for your choice. Here is the text: **Post title**: {reddit_data[i]['title']}, **Post main body**: {reddit_data[i]['text']}\"\n",
    "          }\n",
    "      ],\n",
    "      max_tokens = 10\n",
    "  )\n",
    "\n",
    "  if i % 100 == 0:\n",
    "      with open('reddit_answers.json', 'w') as f:\n",
    "          f.write(json.dumps(model_answers))\n",
    "\n",
    "  model_answers.append(completion.choices[0].message.content)"
   ]
  },
  {
   "cell_type": "code",
   "execution_count": 7,
   "id": "4e159021",
   "metadata": {
    "execution": {
     "iopub.execute_input": "2025-01-29T23:26:18.071542Z",
     "iopub.status.busy": "2025-01-29T23:26:18.071211Z",
     "iopub.status.idle": "2025-01-29T23:26:18.078239Z",
     "shell.execute_reply": "2025-01-29T23:26:18.077172Z"
    },
    "papermill": {
     "duration": 0.285055,
     "end_time": "2025-01-29T23:26:18.079984",
     "exception": false,
     "start_time": "2025-01-29T23:26:17.794929",
     "status": "completed"
    },
    "tags": []
   },
   "outputs": [],
   "source": [
    "with open('reddit_total_answers.json', 'w') as f:\n",
    "    f.write(json.dumps(model_answers))"
   ]
  },
  {
   "cell_type": "code",
   "execution_count": 8,
   "id": "8044ca07",
   "metadata": {
    "execution": {
     "iopub.execute_input": "2025-01-29T23:26:18.677380Z",
     "iopub.status.busy": "2025-01-29T23:26:18.677022Z",
     "iopub.status.idle": "2025-01-29T23:26:20.563749Z",
     "shell.execute_reply": "2025-01-29T23:26:20.562602Z"
    },
    "papermill": {
     "duration": 2.16482,
     "end_time": "2025-01-29T23:26:20.565588",
     "exception": false,
     "start_time": "2025-01-29T23:26:18.400768",
     "status": "completed"
    },
    "tags": []
   },
   "outputs": [],
   "source": [
    "with open('/kaggle/working/HealthUnlocked_crawled.json', 'r') as f:\n",
    "  healthunlocked_data = json.load(f)\n",
    "  f.close()"
   ]
  },
  {
   "cell_type": "code",
   "execution_count": 9,
   "id": "0bd38392",
   "metadata": {
    "execution": {
     "iopub.execute_input": "2025-01-29T23:26:21.116520Z",
     "iopub.status.busy": "2025-01-29T23:26:21.116160Z",
     "iopub.status.idle": "2025-01-30T00:36:24.284801Z",
     "shell.execute_reply": "2025-01-30T00:36:24.283690Z"
    },
    "papermill": {
     "duration": 4203.447141,
     "end_time": "2025-01-30T00:36:24.286449",
     "exception": false,
     "start_time": "2025-01-29T23:26:20.839308",
     "status": "completed"
    },
    "tags": []
   },
   "outputs": [
    {
     "name": "stderr",
     "output_type": "stream",
     "text": [
      "100%|██████████| 5000/5000 [1:10:03<00:00,  1.19it/s]\n"
     ]
    }
   ],
   "source": [
    "model_answers = []\n",
    "\n",
    "for i in trange(5000):\n",
    "  completion = client.chat.completions.create(\n",
    "      model=\"gpt-4o-mini\",\n",
    "      messages=[\n",
    "          {\"role\": \"system\", \"content\": \"You are a highly skilled and reliable language model designed to analyze text for signs of misinformation. You specialize in assessing social media posts about diabetes for accuracy, providing nuanced and objective evaluations. When analyzing a text, focus on identifying false, misleading, or scientifically unsupported claims related to diabetes. Be thorough but avoid over-interpreting or assuming intent behind the message. Always remain unbiased and base your responses on the text provided, using current medical and scientific consensus. Your task is to label each text as one of the following: Misinformation: Contains inaccurate or misleading claims. No Misinformation: Contains no misleading claims, and information is factual or neutral. Uncertain: Insufficient information to determine if the content is misinformation.\"},\n",
    "          {\n",
    "              \"role\": \"user\",\n",
    "              \"content\": f\"Analyze the following text for signs of misinformation about diabetes. Label it as Misinformation, No Misinformation, or Uncertain and provide a short explanation for your choice. Here is the text: **Post title**: {healthunlocked_data[i]['title']}, **Post main body**: {healthunlocked_data[i]['post']}\"\n",
    "          }\n",
    "      ],\n",
    "      max_tokens=10\n",
    "  )\n",
    "\n",
    "  if i % 100 == 0:\n",
    "      with open('healthunlocked_answers.json', 'w') as f:\n",
    "          f.write(json.dumps(model_answers))\n",
    "\n",
    "  model_answers.append(completion.choices[0].message.content)"
   ]
  },
  {
   "cell_type": "code",
   "execution_count": 10,
   "id": "01564d56",
   "metadata": {
    "execution": {
     "iopub.execute_input": "2025-01-30T00:36:25.440736Z",
     "iopub.status.busy": "2025-01-30T00:36:25.440388Z",
     "iopub.status.idle": "2025-01-30T00:36:25.447096Z",
     "shell.execute_reply": "2025-01-30T00:36:25.446103Z"
    },
    "papermill": {
     "duration": 0.627868,
     "end_time": "2025-01-30T00:36:25.448580",
     "exception": false,
     "start_time": "2025-01-30T00:36:24.820712",
     "status": "completed"
    },
    "tags": []
   },
   "outputs": [],
   "source": [
    "with open('healthunlocked_total_answers.json', 'w') as f:\n",
    "    f.write(json.dumps(model_answers))\n",
    "    f.close()"
   ]
  },
  {
   "cell_type": "code",
   "execution_count": 11,
   "id": "830894e4",
   "metadata": {
    "execution": {
     "iopub.execute_input": "2025-01-30T00:36:26.519895Z",
     "iopub.status.busy": "2025-01-30T00:36:26.519330Z",
     "iopub.status.idle": "2025-01-30T00:36:27.646560Z",
     "shell.execute_reply": "2025-01-30T00:36:27.645732Z"
    },
    "papermill": {
     "duration": 1.665482,
     "end_time": "2025-01-30T00:36:27.648364",
     "exception": false,
     "start_time": "2025-01-30T00:36:25.982882",
     "status": "completed"
    },
    "tags": []
   },
   "outputs": [],
   "source": [
    "with open('/kaggle/working/TU_crawled.json', 'r') as f:\n",
    "  tu_data = json.load(f)\n",
    "  f.close()"
   ]
  },
  {
   "cell_type": "code",
   "execution_count": 12,
   "id": "295f7038",
   "metadata": {
    "execution": {
     "iopub.execute_input": "2025-01-30T00:36:28.834630Z",
     "iopub.status.busy": "2025-01-30T00:36:28.834159Z",
     "iopub.status.idle": "2025-01-30T01:48:03.332726Z",
     "shell.execute_reply": "2025-01-30T01:48:03.331655Z"
    },
    "papermill": {
     "duration": 4295.041214,
     "end_time": "2025-01-30T01:48:03.334263",
     "exception": false,
     "start_time": "2025-01-30T00:36:28.293049",
     "status": "completed"
    },
    "tags": []
   },
   "outputs": [
    {
     "name": "stderr",
     "output_type": "stream",
     "text": [
      "100%|██████████| 5000/5000 [1:11:34<00:00,  1.16it/s]\n"
     ]
    }
   ],
   "source": [
    "model_answers = []\n",
    "\n",
    "for i in trange(5000):\n",
    "  all_messages = '\\n'.join(tu_data[i]['chat_list'])\n",
    "  completion = client.chat.completions.create(\n",
    "      model=\"gpt-4o-mini\",\n",
    "      messages=[\n",
    "          {\"role\": \"system\", \"content\": \"You are a highly skilled and reliable language model designed to analyze text for signs of misinformation. You specialize in assessing social media posts about diabetes for accuracy, providing nuanced and objective evaluations. When analyzing a text, focus on identifying false, misleading, or scientifically unsupported claims related to diabetes. Be thorough but avoid over-interpreting or assuming intent behind the message. Always remain unbiased and base your responses on the text provided, using current medical and scientific consensus. Your task is to label each text as one of the following: Misinformation: Contains inaccurate or misleading claims. No Misinformation: Contains no misleading claims, and information is factual or neutral. Uncertain: Insufficient information to determine if the content is misinformation.\"},\n",
    "          {\n",
    "              \"role\": \"user\",\n",
    "              \"content\": f\"Analyze the following text for signs of misinformation about diabetes. Label it as Misinformation, No Misinformation, or Uncertain and provide a short explanation for your choice. Here is the text: **Post title**: {tu_data[i]['title']}, **All chat messages**: {all_messages}\"\n",
    "          }\n",
    "      ],\n",
    "      max_tokens=10\n",
    "  )\n",
    "\n",
    "  if i % 100 == 0:\n",
    "      with open('TU_answers.json', 'w') as f:\n",
    "          f.write(json.dumps(model_answers))\n",
    "\n",
    "  model_answers.append(completion.choices[0].message.content)"
   ]
  },
  {
   "cell_type": "code",
   "execution_count": 13,
   "id": "0f3bc8d4",
   "metadata": {
    "execution": {
     "iopub.execute_input": "2025-01-30T01:48:04.942441Z",
     "iopub.status.busy": "2025-01-30T01:48:04.942104Z",
     "iopub.status.idle": "2025-01-30T01:48:04.948937Z",
     "shell.execute_reply": "2025-01-30T01:48:04.948065Z"
    },
    "papermill": {
     "duration": 0.817708,
     "end_time": "2025-01-30T01:48:04.950358",
     "exception": false,
     "start_time": "2025-01-30T01:48:04.132650",
     "status": "completed"
    },
    "tags": []
   },
   "outputs": [],
   "source": [
    "with open('TU_total_answers.json', 'w') as f:\n",
    "    f.write(json.dumps(model_answers))\n",
    "    f.close()"
   ]
  },
  {
   "cell_type": "code",
   "execution_count": 14,
   "id": "b62860a3",
   "metadata": {
    "execution": {
     "iopub.execute_input": "2025-01-30T01:48:06.639879Z",
     "iopub.status.busy": "2025-01-30T01:48:06.639313Z",
     "iopub.status.idle": "2025-01-30T01:48:07.153299Z",
     "shell.execute_reply": "2025-01-30T01:48:07.151981Z"
    },
    "papermill": {
     "duration": 1.311982,
     "end_time": "2025-01-30T01:48:07.155096",
     "exception": false,
     "start_time": "2025-01-30T01:48:05.843114",
     "status": "completed"
    },
    "tags": []
   },
   "outputs": [],
   "source": [
    "!rm /kaggle/working/HealthUnlocked_crawled.json\n",
    "!rm /kaggle/working/TU_crawled.json\n",
    "!rm /kaggle/working/reddit_data.json"
   ]
  }
 ],
 "metadata": {
  "kaggle": {
   "accelerator": "none",
   "dataSources": [],
   "dockerImageVersionId": 30839,
   "isGpuEnabled": false,
   "isInternetEnabled": true,
   "language": "python",
   "sourceType": "notebook"
  },
  "kernelspec": {
   "display_name": "Python 3",
   "language": "python",
   "name": "python3"
  },
  "language_info": {
   "codemirror_mode": {
    "name": "ipython",
    "version": 3
   },
   "file_extension": ".py",
   "mimetype": "text/x-python",
   "name": "python",
   "nbconvert_exporter": "python",
   "pygments_lexer": "ipython3",
   "version": "3.10.12"
  },
  "papermill": {
   "default_parameters": {},
   "duration": 13459.286883,
   "end_time": "2025-01-30T01:48:09.595270",
   "environment_variables": {},
   "exception": null,
   "input_path": "__notebook__.ipynb",
   "output_path": "__notebook__.ipynb",
   "parameters": {},
   "start_time": "2025-01-29T22:03:50.308387",
   "version": "2.6.0"
  }
 },
 "nbformat": 4,
 "nbformat_minor": 5
}
